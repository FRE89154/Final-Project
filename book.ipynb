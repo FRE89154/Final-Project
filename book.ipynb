{
 "cells": [
  {
   "cell_type": "markdown",
   "metadata": {},
   "source": [
    "# The Battle of Neighborhood"
   ]
  },
  {
   "cell_type": "markdown",
   "metadata": {},
   "source": [
    "## Business Problem"
   ]
  },
  {
   "cell_type": "code",
   "execution_count": null,
   "metadata": {},
   "outputs": [],
   "source": [
    "<img src=\"parismap_new.gif\">"
   ]
  },
  {
   "cell_type": "markdown",
   "metadata": {},
   "source": [
    "Paris is the capital and most populous city of France, with an area of 105 square kilometres (41 square miles) and an official estimated population of 2,140,526 residents as of 1 January 2019. Since the 17th century, Paris has been one of Europe's major centres of finance, diplomacy, commerce, fashion, science, and the arts. The City of Paris is the centre and seat of government of the Île-de-France, or Paris Region, which has an estimated official 2019 population of 12,213,364, or about 18 percent of the population of France.\n",
    "\n",
    "The 20th (or XXe or vingtième) arrondissement of Paris is the last of the consecutively numbered arrondissements of the capital city of France. Also known as Ménilmontant, it is located on the right bank of the River Seine and contains the city's cosmopolitan districts Ménilmontant and Belleville. The 20th arrondissement is also internationally known for the Père Lachaise Cemetery where one can find the tombs of many famous artists. \n",
    "\n",
    "Our client is an entrepreneur who loves books and who wants to open a book store in the 20th arrondissement of Paris. He would like to know exactly where he can open the book store. He wants a place where the demand is high and where no many book stores are already operating.\n",
    "To do so, he asked us to study the 20th arrondissement and more precisely:\n",
    "    1. Define areas with low number of book stores already opened\n",
    "    2. Among them, define attractive area to open the store. He would like to have schools/university close to his place because he loves to share his knowledge and recommendations.\n",
    "    3. Provide any insight on these locations (workplace, schools...) that might attract customers"
   ]
  },
  {
   "cell_type": "markdown",
   "metadata": {},
   "source": [
    "## Data"
   ]
  },
  {
   "cell_type": "markdown",
   "metadata": {},
   "source": [
    "To solve the business problem, we would require the following data:\n",
    "    1. Details about the 20th arrondissement such as population (Wikipedia)\n",
    "    2. List of book shops in the 20th arrondissement, per zone (Foursquare)\n",
    "    3. List of schools/colleges/universities in the area with their addresses\n",
    "    4. List of the transportation accessibility to ease customer venue\n",
    "    5. Details of the surroundings (venues) of the top places to open the store (Foursquare)"
   ]
  },
  {
   "cell_type": "markdown",
   "metadata": {},
   "source": [
    "The data will be used as follows:\n",
    "    • Use Foursquare and geopy data to map all the book stores in the 20th arrondissement\n",
    "    • Use Foursquare and geopy data to map all the schools/college/university\n",
    "    • Use Foursquare and geopy data to map the transportation accessibility\n",
    "    • Create a map that depicts the spread of the above\n",
    "    • Study the map and define top locations for the book shop location\n",
    "    \n",
    "The procesing of these DATA will allow to answer the key questions to make a decision:\n",
    "    • What is the area with the best location that meets criteria established?\n",
    "    • What is the distance from work places and accessibility points "
   ]
  },
  {
   "cell_type": "markdown",
   "metadata": {},
   "source": [
    "## Study"
   ]
  },
  {
   "cell_type": "code",
   "execution_count": 1,
   "metadata": {},
   "outputs": [
    {
     "name": "stdout",
     "output_type": "stream",
     "text": [
      "Collecting package metadata (current_repodata.json): ...working... done\n",
      "Solving environment: ...working... \n",
      "Warning: 4 possible package resolutions (only showing differing packages):\n",
      "  - anaconda::ca-certificates-2019.8.28-0, anaconda::openssl-1.1.1d-he774522_2\n",
      "  - anaconda::ca-certificates-2019.8.28-0, defaults::openssl-1.1.1d-he774522_2\n",
      "  - anaconda::openssl-1.1.1d-he774522_2, defaults::ca-certificates-2019.8.28-0\n",
      "  - defaults::ca-certificates-2019.8.28-0, defaults::openssl-1.1.1d-he774522_2done\n",
      "\n",
      "# All requested packages already installed.\n",
      "\n",
      "Collecting package metadata (current_repodata.json): ...working... done\n",
      "Solving environment: ...working... \n",
      "Warning: 4 possible package resolutions (only showing differing packages):\n",
      "  - anaconda::ca-certificates-2019.8.28-0, anaconda::openssl-1.1.1d-he774522_2\n",
      "  - anaconda::openssl-1.1.1d-he774522_2, defaults::ca-certificates-2019.8.28-0\n",
      "  - anaconda::ca-certificates-2019.8.28-0, defaults::openssl-1.1.1d-he774522_2\n",
      "  - defaults::ca-certificates-2019.8.28-0, defaults::openssl-1.1.1d-he774522_2done\n",
      "\n",
      "# All requested packages already installed.\n",
      "\n"
     ]
    }
   ],
   "source": [
    "!conda install -c conda-forge geopy --yes\n",
    "!conda install -c conda-forge folium=0.5.0 --yes\n",
    "import requests \n",
    "import pandas as pd \n",
    "import numpy as np \n",
    "import random \n",
    "from geopy.geocoders import Nominatim\n",
    "from pandas.io.json import json_normalize\n",
    "import folium"
   ]
  },
  {
   "cell_type": "code",
   "execution_count": 2,
   "metadata": {},
   "outputs": [
    {
     "name": "stdout",
     "output_type": "stream",
     "text": [
      "Your credentails:\n",
      "CLIENT_ID: YFNHKAQAZKDOFPRSX5UOTSGUXUYD3FTW2EN3QH4TWX43CTUZ\n",
      "CLIENT_SECRET:ZH3SADLN0MFX12OJYD5RCNW4ER2EMXDWJ2J4B4YPNMU0R2TV\n"
     ]
    }
   ],
   "source": [
    "CLIENT_ID = 'YFNHKAQAZKDOFPRSX5UOTSGUXUYD3FTW2EN3QH4TWX43CTUZ' # your Foursquare ID\n",
    "CLIENT_SECRET = 'ZH3SADLN0MFX12OJYD5RCNW4ER2EMXDWJ2J4B4YPNMU0R2TV' # your Foursquare Secret\n",
    "VERSION = '20180604'\n",
    "LIMIT = 2000\n",
    "print('Your credentails:')\n",
    "print('CLIENT_ID: ' + CLIENT_ID)\n",
    "print('CLIENT_SECRET:' + CLIENT_SECRET)"
   ]
  },
  {
   "cell_type": "code",
   "execution_count": 3,
   "metadata": {},
   "outputs": [
    {
     "name": "stdout",
     "output_type": "stream",
     "text": [
      "48.8624586736304 2.40053947528966\n"
     ]
    }
   ],
   "source": [
    "address = '75020'\n",
    "\n",
    "geolocator = Nominatim(user_agent=\"foursquare_agent\")\n",
    "location = geolocator.geocode(address)\n",
    "latitude = location.latitude\n",
    "longitude = location.longitude\n",
    "print(latitude, longitude)"
   ]
  },
  {
   "cell_type": "code",
   "execution_count": 4,
   "metadata": {},
   "outputs": [
    {
     "data": {
      "text/html": [
       "<div style=\"width:100%;\"><div style=\"position:relative;width:100%;height:0;padding-bottom:60%;\"><iframe src=\"data:text/html;charset=utf-8;base64,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\" style=\"position:absolute;width:100%;height:100%;left:0;top:0;border:none !important;\" allowfullscreen webkitallowfullscreen mozallowfullscreen></iframe></div></div>"
      ],
      "text/plain": [
       "<folium.folium.Map at 0x1e5cfc24c48>"
      ]
     },
     "execution_count": 4,
     "metadata": {},
     "output_type": "execute_result"
    }
   ],
   "source": [
    "map_Paris = folium.Map(location = [latitude, longitude], zoom_start = 15)\n",
    "map_Paris"
   ]
  },
  {
   "cell_type": "code",
   "execution_count": 5,
   "metadata": {},
   "outputs": [
    {
     "name": "stdout",
     "output_type": "stream",
     "text": [
      "librairie .... OK!\n"
     ]
    }
   ],
   "source": [
    "search_query = 'librairie'\n",
    "radius = 1000\n",
    "print(search_query + ' .... OK!')"
   ]
  },
  {
   "cell_type": "code",
   "execution_count": 6,
   "metadata": {},
   "outputs": [
    {
     "data": {
      "text/html": [
       "<div>\n",
       "<style scoped>\n",
       "    .dataframe tbody tr th:only-of-type {\n",
       "        vertical-align: middle;\n",
       "    }\n",
       "\n",
       "    .dataframe tbody tr th {\n",
       "        vertical-align: top;\n",
       "    }\n",
       "\n",
       "    .dataframe thead th {\n",
       "        text-align: right;\n",
       "    }\n",
       "</style>\n",
       "<table border=\"1\" class=\"dataframe\">\n",
       "  <thead>\n",
       "    <tr style=\"text-align: right;\">\n",
       "      <th></th>\n",
       "      <th>id</th>\n",
       "      <th>name</th>\n",
       "      <th>categories</th>\n",
       "      <th>referralId</th>\n",
       "      <th>hasPerk</th>\n",
       "      <th>location.address</th>\n",
       "      <th>location.lat</th>\n",
       "      <th>location.lng</th>\n",
       "      <th>location.labeledLatLngs</th>\n",
       "      <th>location.distance</th>\n",
       "      <th>location.postalCode</th>\n",
       "      <th>location.cc</th>\n",
       "      <th>location.city</th>\n",
       "      <th>location.state</th>\n",
       "      <th>location.country</th>\n",
       "      <th>location.formattedAddress</th>\n",
       "      <th>location.neighborhood</th>\n",
       "    </tr>\n",
       "  </thead>\n",
       "  <tbody>\n",
       "    <tr>\n",
       "      <td>0</td>\n",
       "      <td>4b7a7207f964a520152d2fe3</td>\n",
       "      <td>Librairie de l’Irma</td>\n",
       "      <td>[{'id': '4bf58dd8d48988d114951735', 'name': 'B...</td>\n",
       "      <td>v-1576155738</td>\n",
       "      <td>False</td>\n",
       "      <td>22 rue Soleillet</td>\n",
       "      <td>48.865484</td>\n",
       "      <td>2.393319</td>\n",
       "      <td>[{'label': 'display', 'lat': 48.86548360799989...</td>\n",
       "      <td>626</td>\n",
       "      <td>75020</td>\n",
       "      <td>FR</td>\n",
       "      <td>Paris</td>\n",
       "      <td>Île-de-France</td>\n",
       "      <td>France</td>\n",
       "      <td>[22 rue Soleillet, 75020 Paris, France]</td>\n",
       "      <td>NaN</td>\n",
       "    </tr>\n",
       "    <tr>\n",
       "      <td>1</td>\n",
       "      <td>4f7c541be4b06978a79c53ef</td>\n",
       "      <td>Librairie Papeterie Presse</td>\n",
       "      <td>[{'id': '4f04ad622fb6e1c99f3db0b9', 'name': 'N...</td>\n",
       "      <td>v-1576155738</td>\n",
       "      <td>False</td>\n",
       "      <td>2 rue du Surmelin</td>\n",
       "      <td>48.868049</td>\n",
       "      <td>2.401795</td>\n",
       "      <td>[{'label': 'display', 'lat': 48.868049, 'lng':...</td>\n",
       "      <td>629</td>\n",
       "      <td>75020</td>\n",
       "      <td>FR</td>\n",
       "      <td>Paris</td>\n",
       "      <td>Île-de-France</td>\n",
       "      <td>France</td>\n",
       "      <td>[2 rue du Surmelin, 75020 Paris, France]</td>\n",
       "      <td>NaN</td>\n",
       "    </tr>\n",
       "    <tr>\n",
       "      <td>2</td>\n",
       "      <td>4e206640b61cdcf1ecb1ed88</td>\n",
       "      <td>Librairie des Gâtines</td>\n",
       "      <td>[{'id': '4bf58dd8d48988d114951735', 'name': 'B...</td>\n",
       "      <td>v-1576155738</td>\n",
       "      <td>False</td>\n",
       "      <td>NaN</td>\n",
       "      <td>48.863748</td>\n",
       "      <td>2.399051</td>\n",
       "      <td>[{'label': 'display', 'lat': 48.8637478308397,...</td>\n",
       "      <td>180</td>\n",
       "      <td>NaN</td>\n",
       "      <td>FR</td>\n",
       "      <td>Paris</td>\n",
       "      <td>Île-de-France</td>\n",
       "      <td>France</td>\n",
       "      <td>[Paris, France]</td>\n",
       "      <td>NaN</td>\n",
       "    </tr>\n",
       "    <tr>\n",
       "      <td>3</td>\n",
       "      <td>5de235fcc85a0100077def36</td>\n",
       "      <td>La Toute Petite Librairie</td>\n",
       "      <td>[{'id': '4bf58dd8d48988d114951735', 'name': 'B...</td>\n",
       "      <td>v-1576155738</td>\n",
       "      <td>False</td>\n",
       "      <td>2 rue Étienne Marey</td>\n",
       "      <td>48.866557</td>\n",
       "      <td>2.406411</td>\n",
       "      <td>[{'label': 'display', 'lat': 48.866557, 'lng':...</td>\n",
       "      <td>626</td>\n",
       "      <td>75020</td>\n",
       "      <td>FR</td>\n",
       "      <td>Paris</td>\n",
       "      <td>Île-de-France</td>\n",
       "      <td>France</td>\n",
       "      <td>[2 rue Étienne Marey, 75020 Paris, France]</td>\n",
       "      <td>NaN</td>\n",
       "    </tr>\n",
       "    <tr>\n",
       "      <td>4</td>\n",
       "      <td>5b803dcffe3740002cdce81e</td>\n",
       "      <td>Librairie Mona Lisait</td>\n",
       "      <td>[{'id': '4bf58dd8d48988d114951735', 'name': 'B...</td>\n",
       "      <td>v-1576155738</td>\n",
       "      <td>False</td>\n",
       "      <td>259 rue des Pyrénées</td>\n",
       "      <td>48.866780</td>\n",
       "      <td>2.396845</td>\n",
       "      <td>[{'label': 'display', 'lat': 48.86678, 'lng': ...</td>\n",
       "      <td>551</td>\n",
       "      <td>75020</td>\n",
       "      <td>FR</td>\n",
       "      <td>Париж</td>\n",
       "      <td>Иль-де-Франс</td>\n",
       "      <td>France</td>\n",
       "      <td>[259 rue des Pyrénées, 75020 Париж, France]</td>\n",
       "      <td>Père-Lachaise</td>\n",
       "    </tr>\n",
       "    <tr>\n",
       "      <td>5</td>\n",
       "      <td>502633a6e4b0435879905b98</td>\n",
       "      <td>Librairie Nation</td>\n",
       "      <td>[{'id': '4bf58dd8d48988d114951735', 'name': 'B...</td>\n",
       "      <td>v-1576155738</td>\n",
       "      <td>False</td>\n",
       "      <td>36 Boulevard de Charonne</td>\n",
       "      <td>48.855362</td>\n",
       "      <td>2.398855</td>\n",
       "      <td>[{'label': 'display', 'lat': 48.85536184420655...</td>\n",
       "      <td>799</td>\n",
       "      <td>75020</td>\n",
       "      <td>FR</td>\n",
       "      <td>Paris</td>\n",
       "      <td>Île-de-France</td>\n",
       "      <td>France</td>\n",
       "      <td>[36 Boulevard de Charonne, 75020 Paris, France]</td>\n",
       "      <td>NaN</td>\n",
       "    </tr>\n",
       "    <tr>\n",
       "      <td>6</td>\n",
       "      <td>57206d97498ea8f3570f42fb</td>\n",
       "      <td>Librairie Le Monte-en-l'air</td>\n",
       "      <td>[{'id': '4bf58dd8d48988d1e5931735', 'name': 'M...</td>\n",
       "      <td>v-1576155738</td>\n",
       "      <td>False</td>\n",
       "      <td>2 rue de la Mare</td>\n",
       "      <td>48.868418</td>\n",
       "      <td>2.388233</td>\n",
       "      <td>[{'label': 'display', 'lat': 48.8684176, 'lng'...</td>\n",
       "      <td>1119</td>\n",
       "      <td>75020</td>\n",
       "      <td>FR</td>\n",
       "      <td>Paris</td>\n",
       "      <td>Île-de-France</td>\n",
       "      <td>France</td>\n",
       "      <td>[2 rue de la Mare, 75020 Paris, France]</td>\n",
       "      <td>NaN</td>\n",
       "    </tr>\n",
       "    <tr>\n",
       "      <td>7</td>\n",
       "      <td>4daef58b4b2290767871de5c</td>\n",
       "      <td>Librairie Biret</td>\n",
       "      <td>[{'id': '4bf58dd8d48988d114951735', 'name': 'B...</td>\n",
       "      <td>v-1576155738</td>\n",
       "      <td>False</td>\n",
       "      <td>152 avenue des Champs-Élysées</td>\n",
       "      <td>48.851651</td>\n",
       "      <td>2.403476</td>\n",
       "      <td>[{'label': 'display', 'lat': 48.8516512420951,...</td>\n",
       "      <td>1222</td>\n",
       "      <td>75008</td>\n",
       "      <td>FR</td>\n",
       "      <td>Paris</td>\n",
       "      <td>Île-de-France</td>\n",
       "      <td>France</td>\n",
       "      <td>[152 avenue des Champs-Élysées, 75008 Paris, F...</td>\n",
       "      <td>NaN</td>\n",
       "    </tr>\n",
       "    <tr>\n",
       "      <td>8</td>\n",
       "      <td>4eabb8f6b8f7a50de95c2e12</td>\n",
       "      <td>A Tout Lire</td>\n",
       "      <td>[{'id': '4bf58dd8d48988d114951735', 'name': 'B...</td>\n",
       "      <td>v-1576155738</td>\n",
       "      <td>False</td>\n",
       "      <td>141 avenue Gambetta</td>\n",
       "      <td>48.868986</td>\n",
       "      <td>2.402495</td>\n",
       "      <td>[{'label': 'display', 'lat': 48.86898636789886...</td>\n",
       "      <td>740</td>\n",
       "      <td>75020</td>\n",
       "      <td>FR</td>\n",
       "      <td>Paris</td>\n",
       "      <td>Île-de-France</td>\n",
       "      <td>France</td>\n",
       "      <td>[141 avenue Gambetta, 75020 Paris, France]</td>\n",
       "      <td>NaN</td>\n",
       "    </tr>\n",
       "  </tbody>\n",
       "</table>\n",
       "</div>"
      ],
      "text/plain": [
       "                         id                         name  \\\n",
       "0  4b7a7207f964a520152d2fe3          Librairie de l’Irma   \n",
       "1  4f7c541be4b06978a79c53ef   Librairie Papeterie Presse   \n",
       "2  4e206640b61cdcf1ecb1ed88        Librairie des Gâtines   \n",
       "3  5de235fcc85a0100077def36    La Toute Petite Librairie   \n",
       "4  5b803dcffe3740002cdce81e        Librairie Mona Lisait   \n",
       "5  502633a6e4b0435879905b98             Librairie Nation   \n",
       "6  57206d97498ea8f3570f42fb  Librairie Le Monte-en-l'air   \n",
       "7  4daef58b4b2290767871de5c              Librairie Biret   \n",
       "8  4eabb8f6b8f7a50de95c2e12                  A Tout Lire   \n",
       "\n",
       "                                          categories    referralId  hasPerk  \\\n",
       "0  [{'id': '4bf58dd8d48988d114951735', 'name': 'B...  v-1576155738    False   \n",
       "1  [{'id': '4f04ad622fb6e1c99f3db0b9', 'name': 'N...  v-1576155738    False   \n",
       "2  [{'id': '4bf58dd8d48988d114951735', 'name': 'B...  v-1576155738    False   \n",
       "3  [{'id': '4bf58dd8d48988d114951735', 'name': 'B...  v-1576155738    False   \n",
       "4  [{'id': '4bf58dd8d48988d114951735', 'name': 'B...  v-1576155738    False   \n",
       "5  [{'id': '4bf58dd8d48988d114951735', 'name': 'B...  v-1576155738    False   \n",
       "6  [{'id': '4bf58dd8d48988d1e5931735', 'name': 'M...  v-1576155738    False   \n",
       "7  [{'id': '4bf58dd8d48988d114951735', 'name': 'B...  v-1576155738    False   \n",
       "8  [{'id': '4bf58dd8d48988d114951735', 'name': 'B...  v-1576155738    False   \n",
       "\n",
       "                location.address  location.lat  location.lng  \\\n",
       "0               22 rue Soleillet     48.865484      2.393319   \n",
       "1              2 rue du Surmelin     48.868049      2.401795   \n",
       "2                            NaN     48.863748      2.399051   \n",
       "3            2 rue Étienne Marey     48.866557      2.406411   \n",
       "4           259 rue des Pyrénées     48.866780      2.396845   \n",
       "5       36 Boulevard de Charonne     48.855362      2.398855   \n",
       "6               2 rue de la Mare     48.868418      2.388233   \n",
       "7  152 avenue des Champs-Élysées     48.851651      2.403476   \n",
       "8            141 avenue Gambetta     48.868986      2.402495   \n",
       "\n",
       "                             location.labeledLatLngs  location.distance  \\\n",
       "0  [{'label': 'display', 'lat': 48.86548360799989...                626   \n",
       "1  [{'label': 'display', 'lat': 48.868049, 'lng':...                629   \n",
       "2  [{'label': 'display', 'lat': 48.8637478308397,...                180   \n",
       "3  [{'label': 'display', 'lat': 48.866557, 'lng':...                626   \n",
       "4  [{'label': 'display', 'lat': 48.86678, 'lng': ...                551   \n",
       "5  [{'label': 'display', 'lat': 48.85536184420655...                799   \n",
       "6  [{'label': 'display', 'lat': 48.8684176, 'lng'...               1119   \n",
       "7  [{'label': 'display', 'lat': 48.8516512420951,...               1222   \n",
       "8  [{'label': 'display', 'lat': 48.86898636789886...                740   \n",
       "\n",
       "  location.postalCode location.cc location.city location.state  \\\n",
       "0               75020          FR         Paris  Île-de-France   \n",
       "1               75020          FR         Paris  Île-de-France   \n",
       "2                 NaN          FR         Paris  Île-de-France   \n",
       "3               75020          FR         Paris  Île-de-France   \n",
       "4               75020          FR         Париж   Иль-де-Франс   \n",
       "5               75020          FR         Paris  Île-de-France   \n",
       "6               75020          FR         Paris  Île-de-France   \n",
       "7               75008          FR         Paris  Île-de-France   \n",
       "8               75020          FR         Paris  Île-de-France   \n",
       "\n",
       "  location.country                          location.formattedAddress  \\\n",
       "0           France            [22 rue Soleillet, 75020 Paris, France]   \n",
       "1           France           [2 rue du Surmelin, 75020 Paris, France]   \n",
       "2           France                                    [Paris, France]   \n",
       "3           France         [2 rue Étienne Marey, 75020 Paris, France]   \n",
       "4           France        [259 rue des Pyrénées, 75020 Париж, France]   \n",
       "5           France    [36 Boulevard de Charonne, 75020 Paris, France]   \n",
       "6           France            [2 rue de la Mare, 75020 Paris, France]   \n",
       "7           France  [152 avenue des Champs-Élysées, 75008 Paris, F...   \n",
       "8           France         [141 avenue Gambetta, 75020 Paris, France]   \n",
       "\n",
       "  location.neighborhood  \n",
       "0                   NaN  \n",
       "1                   NaN  \n",
       "2                   NaN  \n",
       "3                   NaN  \n",
       "4         Père-Lachaise  \n",
       "5                   NaN  \n",
       "6                   NaN  \n",
       "7                   NaN  \n",
       "8                   NaN  "
      ]
     },
     "execution_count": 6,
     "metadata": {},
     "output_type": "execute_result"
    }
   ],
   "source": [
    "url = 'https://api.foursquare.com/v2/venues/search?client_id={}&client_secret={}&ll={},{}&v={}&query={}&radius={}&limit={}'.format(CLIENT_ID, CLIENT_SECRET, latitude, longitude, VERSION, search_query, radius, LIMIT)\n",
    "results = requests.get(url).json()\n",
    "venues = results['response']['venues']\n",
    "dataframe = json_normalize(venues)\n",
    "dataframe.head(50)"
   ]
  },
  {
   "cell_type": "code",
   "execution_count": 7,
   "metadata": {},
   "outputs": [
    {
     "data": {
      "text/plain": [
       "(9, 17)"
      ]
     },
     "execution_count": 7,
     "metadata": {},
     "output_type": "execute_result"
    }
   ],
   "source": [
    "dataframe.shape"
   ]
  },
  {
   "cell_type": "code",
   "execution_count": 8,
   "metadata": {},
   "outputs": [],
   "source": [
    "df_clean = dataframe[['name','location.address','location.lat', 'location.lng','location.postalCode']]"
   ]
  },
  {
   "cell_type": "code",
   "execution_count": 9,
   "metadata": {},
   "outputs": [
    {
     "data": {
      "text/plain": [
       "(9, 5)"
      ]
     },
     "execution_count": 9,
     "metadata": {},
     "output_type": "execute_result"
    }
   ],
   "source": [
    "df_clean.shape"
   ]
  },
  {
   "cell_type": "code",
   "execution_count": 10,
   "metadata": {},
   "outputs": [
    {
     "data": {
      "text/html": [
       "<div>\n",
       "<style scoped>\n",
       "    .dataframe tbody tr th:only-of-type {\n",
       "        vertical-align: middle;\n",
       "    }\n",
       "\n",
       "    .dataframe tbody tr th {\n",
       "        vertical-align: top;\n",
       "    }\n",
       "\n",
       "    .dataframe thead th {\n",
       "        text-align: right;\n",
       "    }\n",
       "</style>\n",
       "<table border=\"1\" class=\"dataframe\">\n",
       "  <thead>\n",
       "    <tr style=\"text-align: right;\">\n",
       "      <th></th>\n",
       "      <th>Name</th>\n",
       "      <th>location</th>\n",
       "      <th>lat</th>\n",
       "      <th>long</th>\n",
       "      <th>Arrondissement</th>\n",
       "    </tr>\n",
       "  </thead>\n",
       "  <tbody>\n",
       "    <tr>\n",
       "      <td>0</td>\n",
       "      <td>Librairie de l’Irma</td>\n",
       "      <td>22 rue Soleillet</td>\n",
       "      <td>48.865484</td>\n",
       "      <td>2.393319</td>\n",
       "      <td>75020</td>\n",
       "    </tr>\n",
       "    <tr>\n",
       "      <td>1</td>\n",
       "      <td>Librairie Papeterie Presse</td>\n",
       "      <td>2 rue du Surmelin</td>\n",
       "      <td>48.868049</td>\n",
       "      <td>2.401795</td>\n",
       "      <td>75020</td>\n",
       "    </tr>\n",
       "    <tr>\n",
       "      <td>2</td>\n",
       "      <td>Librairie des Gâtines</td>\n",
       "      <td>NaN</td>\n",
       "      <td>48.863748</td>\n",
       "      <td>2.399051</td>\n",
       "      <td>NaN</td>\n",
       "    </tr>\n",
       "    <tr>\n",
       "      <td>3</td>\n",
       "      <td>La Toute Petite Librairie</td>\n",
       "      <td>2 rue Étienne Marey</td>\n",
       "      <td>48.866557</td>\n",
       "      <td>2.406411</td>\n",
       "      <td>75020</td>\n",
       "    </tr>\n",
       "    <tr>\n",
       "      <td>4</td>\n",
       "      <td>Librairie Mona Lisait</td>\n",
       "      <td>259 rue des Pyrénées</td>\n",
       "      <td>48.866780</td>\n",
       "      <td>2.396845</td>\n",
       "      <td>75020</td>\n",
       "    </tr>\n",
       "    <tr>\n",
       "      <td>5</td>\n",
       "      <td>Librairie Nation</td>\n",
       "      <td>36 Boulevard de Charonne</td>\n",
       "      <td>48.855362</td>\n",
       "      <td>2.398855</td>\n",
       "      <td>75020</td>\n",
       "    </tr>\n",
       "    <tr>\n",
       "      <td>6</td>\n",
       "      <td>Librairie Le Monte-en-l'air</td>\n",
       "      <td>2 rue de la Mare</td>\n",
       "      <td>48.868418</td>\n",
       "      <td>2.388233</td>\n",
       "      <td>75020</td>\n",
       "    </tr>\n",
       "    <tr>\n",
       "      <td>7</td>\n",
       "      <td>Librairie Biret</td>\n",
       "      <td>152 avenue des Champs-Élysées</td>\n",
       "      <td>48.851651</td>\n",
       "      <td>2.403476</td>\n",
       "      <td>75008</td>\n",
       "    </tr>\n",
       "    <tr>\n",
       "      <td>8</td>\n",
       "      <td>A Tout Lire</td>\n",
       "      <td>141 avenue Gambetta</td>\n",
       "      <td>48.868986</td>\n",
       "      <td>2.402495</td>\n",
       "      <td>75020</td>\n",
       "    </tr>\n",
       "  </tbody>\n",
       "</table>\n",
       "</div>"
      ],
      "text/plain": [
       "                          Name                       location        lat  \\\n",
       "0          Librairie de l’Irma               22 rue Soleillet  48.865484   \n",
       "1   Librairie Papeterie Presse              2 rue du Surmelin  48.868049   \n",
       "2        Librairie des Gâtines                            NaN  48.863748   \n",
       "3    La Toute Petite Librairie            2 rue Étienne Marey  48.866557   \n",
       "4        Librairie Mona Lisait           259 rue des Pyrénées  48.866780   \n",
       "5             Librairie Nation       36 Boulevard de Charonne  48.855362   \n",
       "6  Librairie Le Monte-en-l'air               2 rue de la Mare  48.868418   \n",
       "7              Librairie Biret  152 avenue des Champs-Élysées  48.851651   \n",
       "8                  A Tout Lire            141 avenue Gambetta  48.868986   \n",
       "\n",
       "       long Arrondissement  \n",
       "0  2.393319          75020  \n",
       "1  2.401795          75020  \n",
       "2  2.399051            NaN  \n",
       "3  2.406411          75020  \n",
       "4  2.396845          75020  \n",
       "5  2.398855          75020  \n",
       "6  2.388233          75020  \n",
       "7  2.403476          75008  \n",
       "8  2.402495          75020  "
      ]
     },
     "execution_count": 10,
     "metadata": {},
     "output_type": "execute_result"
    }
   ],
   "source": [
    "df_clean = df_clean.rename(columns={\"name\": \"Name\", \"location.address\": \"location\",\"location.lat\":\"lat\",\"location.lng\":\"long\", \"location.postalCode\": \"Arrondissement\"})\n",
    "df_clean"
   ]
  },
  {
   "cell_type": "code",
   "execution_count": 21,
   "metadata": {},
   "outputs": [
    {
     "data": {
      "text/html": [
       "<div style=\"width:100%;\"><div style=\"position:relative;width:100%;height:0;padding-bottom:60%;\"><iframe src=\"data:text/html;charset=utf-8;base64,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\" style=\"position:absolute;width:100%;height:100%;left:0;top:0;border:none !important;\" allowfullscreen webkitallowfullscreen mozallowfullscreen></iframe></div></div>"
      ],
      "text/plain": [
       "<folium.folium.Map at 0x1e5cff3c388>"
      ]
     },
     "execution_count": 21,
     "metadata": {},
     "output_type": "execute_result"
    }
   ],
   "source": [
    "venues_map = folium.Map(location=[latitude, longitude], zoom_start=15) # generate map centred around Ecco\n",
    "\n",
    "\n",
    "# add Ecco as a red circle mark\n",
    "folium.features.CircleMarker(\n",
    "    [latitude, longitude],\n",
    "    radius=10,\n",
    "    popup='Center of 20th arrondissement',\n",
    "    fill=True,\n",
    "    color='red',\n",
    "    fill_color='red',\n",
    "    fill_opacity=0.6\n",
    "    ).add_to(venues_map)\n",
    "\n",
    "# add popular spots to the map as blue circle markers\n",
    "for lat, lng in zip(df_clean.lat, df_clean.long):\n",
    "    folium.features.CircleMarker(\n",
    "        [lat, lng],\n",
    "        radius=5,\n",
    "        popup='Book shop',\n",
    "        fill=True,\n",
    "        color='blue',\n",
    "        fill_color='blue',\n",
    "        fill_opacity=0.6\n",
    "        ).add_to(venues_map)\n",
    "\n",
    "# display map\n",
    "\n",
    "venues_map"
   ]
  },
  {
   "cell_type": "code",
   "execution_count": 18,
   "metadata": {},
   "outputs": [
    {
     "data": {
      "text/plain": [
       "<zip at 0x1e5cfe45c48>"
      ]
     },
     "execution_count": 18,
     "metadata": {},
     "output_type": "execute_result"
    }
   ],
   "source": []
  },
  {
   "cell_type": "code",
   "execution_count": null,
   "metadata": {},
   "outputs": [],
   "source": []
  }
 ],
 "metadata": {
  "kernelspec": {
   "display_name": "Python 3",
   "language": "python",
   "name": "python3"
  },
  "language_info": {
   "codemirror_mode": {
    "name": "ipython",
    "version": 3
   },
   "file_extension": ".py",
   "mimetype": "text/x-python",
   "name": "python",
   "nbconvert_exporter": "python",
   "pygments_lexer": "ipython3",
   "version": "3.7.4"
  }
 },
 "nbformat": 4,
 "nbformat_minor": 2
}
